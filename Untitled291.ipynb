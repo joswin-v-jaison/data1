{
  "nbformat": 4,
  "nbformat_minor": 0,
  "metadata": {
    "colab": {
      "name": "Untitled291.ipynb",
      "provenance": [],
      "collapsed_sections": [],
      "authorship_tag": "ABX9TyOE7qeg8g0TgYZc4VU4NtzZ",
      "include_colab_link": true
    },
    "kernelspec": {
      "name": "python3",
      "display_name": "Python 3"
    },
    "language_info": {
      "name": "python"
    }
  },
  "cells": [
    {
      "cell_type": "markdown",
      "metadata": {
        "id": "view-in-github",
        "colab_type": "text"
      },
      "source": [
        "<a href=\"https://colab.research.google.com/github/joswin-v-jaison/data1/blob/main/Untitled291.ipynb\" target=\"_parent\"><img src=\"https://colab.research.google.com/assets/colab-badge.svg\" alt=\"Open In Colab\"/></a>"
      ]
    },
    {
      "cell_type": "code",
      "metadata": {
        "id": "H3wy_2JsdPVE",
        "colab": {
          "base_uri": "https://localhost:8080/"
        },
        "outputId": "ae70a649-00b5-424a-9043-8c39d5428c0e"
      },
      "source": [
        "import numpy as np\n",
        "import pandas as pd\n",
        "import matplotlib.pyplot as plt\n",
        "from matplotlib import rc\n",
        "from scipy.stats import chi2_contingency, ttest_ind, ttest_rel, f_oneway\n",
        "%matplotlib inline\n",
        "import statsmodels.api as sm\n",
        "from statsmodels.formula.api import ols\n",
        "import seaborn as sns\n",
        "df=pd.read_csv('/content/modcloth (1).csv')"
      ],
      "execution_count": 1,
      "outputs": [
        {
          "output_type": "stream",
          "text": [
            "/usr/local/lib/python3.7/dist-packages/statsmodels/tools/_testing.py:19: FutureWarning: pandas.util.testing is deprecated. Use the functions in the public API at pandas.testing instead.\n",
            "  import pandas.util.testing as tm\n"
          ],
          "name": "stderr"
        }
      ]
    },
    {
      "cell_type": "code",
      "metadata": {
        "id": "cLpGEkRcm4sH",
        "colab": {
          "base_uri": "https://localhost:8080/",
          "height": 203
        },
        "outputId": "d6902ac8-875f-4e7c-87eb-dddc15dde383"
      },
      "source": [
        "df.head()"
      ],
      "execution_count": 2,
      "outputs": [
        {
          "output_type": "execute_result",
          "data": {
            "text/html": [
              "<div>\n",
              "<style scoped>\n",
              "    .dataframe tbody tr th:only-of-type {\n",
              "        vertical-align: middle;\n",
              "    }\n",
              "\n",
              "    .dataframe tbody tr th {\n",
              "        vertical-align: top;\n",
              "    }\n",
              "\n",
              "    .dataframe thead th {\n",
              "        text-align: right;\n",
              "    }\n",
              "</style>\n",
              "<table border=\"1\" class=\"dataframe\">\n",
              "  <thead>\n",
              "    <tr style=\"text-align: right;\">\n",
              "      <th></th>\n",
              "      <th>item_id</th>\n",
              "      <th>user_id</th>\n",
              "      <th>rating</th>\n",
              "      <th>timestamp</th>\n",
              "      <th>size</th>\n",
              "      <th>fit</th>\n",
              "      <th>user_attr</th>\n",
              "      <th>model_attr</th>\n",
              "      <th>category</th>\n",
              "      <th>brand</th>\n",
              "      <th>year</th>\n",
              "      <th>split</th>\n",
              "    </tr>\n",
              "  </thead>\n",
              "  <tbody>\n",
              "    <tr>\n",
              "      <th>0</th>\n",
              "      <td>7443</td>\n",
              "      <td>Alex</td>\n",
              "      <td>4</td>\n",
              "      <td>2010-01-21 08:00:00+00:00</td>\n",
              "      <td>NaN</td>\n",
              "      <td>NaN</td>\n",
              "      <td>Small</td>\n",
              "      <td>Small</td>\n",
              "      <td>Dresses</td>\n",
              "      <td>NaN</td>\n",
              "      <td>2012</td>\n",
              "      <td>0</td>\n",
              "    </tr>\n",
              "    <tr>\n",
              "      <th>1</th>\n",
              "      <td>7443</td>\n",
              "      <td>carolyn.agan</td>\n",
              "      <td>3</td>\n",
              "      <td>2010-01-27 08:00:00+00:00</td>\n",
              "      <td>NaN</td>\n",
              "      <td>NaN</td>\n",
              "      <td>NaN</td>\n",
              "      <td>Small</td>\n",
              "      <td>Dresses</td>\n",
              "      <td>NaN</td>\n",
              "      <td>2012</td>\n",
              "      <td>0</td>\n",
              "    </tr>\n",
              "    <tr>\n",
              "      <th>2</th>\n",
              "      <td>7443</td>\n",
              "      <td>Robyn</td>\n",
              "      <td>4</td>\n",
              "      <td>2010-01-29 08:00:00+00:00</td>\n",
              "      <td>NaN</td>\n",
              "      <td>NaN</td>\n",
              "      <td>Small</td>\n",
              "      <td>Small</td>\n",
              "      <td>Dresses</td>\n",
              "      <td>NaN</td>\n",
              "      <td>2012</td>\n",
              "      <td>0</td>\n",
              "    </tr>\n",
              "    <tr>\n",
              "      <th>3</th>\n",
              "      <td>7443</td>\n",
              "      <td>De</td>\n",
              "      <td>4</td>\n",
              "      <td>2010-02-13 08:00:00+00:00</td>\n",
              "      <td>NaN</td>\n",
              "      <td>NaN</td>\n",
              "      <td>NaN</td>\n",
              "      <td>Small</td>\n",
              "      <td>Dresses</td>\n",
              "      <td>NaN</td>\n",
              "      <td>2012</td>\n",
              "      <td>0</td>\n",
              "    </tr>\n",
              "    <tr>\n",
              "      <th>4</th>\n",
              "      <td>7443</td>\n",
              "      <td>tasha</td>\n",
              "      <td>4</td>\n",
              "      <td>2010-02-18 08:00:00+00:00</td>\n",
              "      <td>NaN</td>\n",
              "      <td>NaN</td>\n",
              "      <td>Small</td>\n",
              "      <td>Small</td>\n",
              "      <td>Dresses</td>\n",
              "      <td>NaN</td>\n",
              "      <td>2012</td>\n",
              "      <td>0</td>\n",
              "    </tr>\n",
              "  </tbody>\n",
              "</table>\n",
              "</div>"
            ],
            "text/plain": [
              "   item_id       user_id  rating  ... brand  year split\n",
              "0     7443          Alex       4  ...   NaN  2012     0\n",
              "1     7443  carolyn.agan       3  ...   NaN  2012     0\n",
              "2     7443         Robyn       4  ...   NaN  2012     0\n",
              "3     7443            De       4  ...   NaN  2012     0\n",
              "4     7443         tasha       4  ...   NaN  2012     0\n",
              "\n",
              "[5 rows x 12 columns]"
            ]
          },
          "metadata": {
            "tags": []
          },
          "execution_count": 2
        }
      ]
    },
    {
      "cell_type": "code",
      "metadata": {
        "id": "Sxa3F_v_k3y6"
      },
      "source": [
        "conti=pd.crosstab(df['model_attr'],df['user_attr'])"
      ],
      "execution_count": 3,
      "outputs": []
    },
    {
      "cell_type": "code",
      "metadata": {
        "colab": {
          "base_uri": "https://localhost:8080/",
          "height": 142
        },
        "id": "xPDo8Od4V2xx",
        "outputId": "22aa4299-4aaa-4245-bc44-71d935b6c906"
      },
      "source": [
        "conti.head()"
      ],
      "execution_count": 4,
      "outputs": [
        {
          "output_type": "execute_result",
          "data": {
            "text/html": [
              "<div>\n",
              "<style scoped>\n",
              "    .dataframe tbody tr th:only-of-type {\n",
              "        vertical-align: middle;\n",
              "    }\n",
              "\n",
              "    .dataframe tbody tr th {\n",
              "        vertical-align: top;\n",
              "    }\n",
              "\n",
              "    .dataframe thead th {\n",
              "        text-align: right;\n",
              "    }\n",
              "</style>\n",
              "<table border=\"1\" class=\"dataframe\">\n",
              "  <thead>\n",
              "    <tr style=\"text-align: right;\">\n",
              "      <th>user_attr</th>\n",
              "      <th>Large</th>\n",
              "      <th>Small</th>\n",
              "    </tr>\n",
              "    <tr>\n",
              "      <th>model_attr</th>\n",
              "      <th></th>\n",
              "      <th></th>\n",
              "    </tr>\n",
              "  </thead>\n",
              "  <tbody>\n",
              "    <tr>\n",
              "      <th>Small</th>\n",
              "      <td>7038</td>\n",
              "      <td>31800</td>\n",
              "    </tr>\n",
              "    <tr>\n",
              "      <th>Small&amp;Large</th>\n",
              "      <td>11327</td>\n",
              "      <td>41361</td>\n",
              "    </tr>\n",
              "  </tbody>\n",
              "</table>\n",
              "</div>"
            ],
            "text/plain": [
              "user_attr    Large  Small\n",
              "model_attr               \n",
              "Small         7038  31800\n",
              "Small&Large  11327  41361"
            ]
          },
          "metadata": {
            "tags": []
          },
          "execution_count": 4
        }
      ]
    },
    {
      "cell_type": "code",
      "metadata": {
        "colab": {
          "base_uri": "https://localhost:8080/"
        },
        "id": "DcpaQmdKV61W",
        "outputId": "85363a0d-6534-4291-9a73-a3e49eae55ef"
      },
      "source": [
        "df.isnull().sum()"
      ],
      "execution_count": 5,
      "outputs": [
        {
          "output_type": "execute_result",
          "data": {
            "text/plain": [
              "item_id           0\n",
              "user_id           1\n",
              "rating            0\n",
              "timestamp         0\n",
              "size          21760\n",
              "fit           18506\n",
              "user_attr      8367\n",
              "model_attr        0\n",
              "category          0\n",
              "brand         73980\n",
              "year              0\n",
              "split             0\n",
              "dtype: int64"
            ]
          },
          "metadata": {
            "tags": []
          },
          "execution_count": 5
        }
      ]
    },
    {
      "cell_type": "code",
      "metadata": {
        "id": "xxEVCDUnXmD7"
      },
      "source": [
        "df.dropna(inplace=True)"
      ],
      "execution_count": 6,
      "outputs": []
    },
    {
      "cell_type": "code",
      "metadata": {
        "id": "hkcoMfjzXpv5"
      },
      "source": [
        "rating=df.pivot_table(index=['user_id'],columns=['category'],values='rating')"
      ],
      "execution_count": 7,
      "outputs": []
    },
    {
      "cell_type": "code",
      "metadata": {
        "id": "D2d3ZNW3Xtee"
      },
      "source": [
        "rating=rating.dropna(thresh=10,axis=1).fillna(0)"
      ],
      "execution_count": 8,
      "outputs": []
    },
    {
      "cell_type": "code",
      "metadata": {
        "colab": {
          "base_uri": "https://localhost:8080/",
          "height": 447
        },
        "id": "dn6ccVUcYkVT",
        "outputId": "39522b48-2a15-4a8d-d22a-ca444ffb3155"
      },
      "source": [
        "rating"
      ],
      "execution_count": 9,
      "outputs": [
        {
          "output_type": "execute_result",
          "data": {
            "text/html": [
              "<div>\n",
              "<style scoped>\n",
              "    .dataframe tbody tr th:only-of-type {\n",
              "        vertical-align: middle;\n",
              "    }\n",
              "\n",
              "    .dataframe tbody tr th {\n",
              "        vertical-align: top;\n",
              "    }\n",
              "\n",
              "    .dataframe thead th {\n",
              "        text-align: right;\n",
              "    }\n",
              "</style>\n",
              "<table border=\"1\" class=\"dataframe\">\n",
              "  <thead>\n",
              "    <tr style=\"text-align: right;\">\n",
              "      <th>category</th>\n",
              "      <th>Bottoms</th>\n",
              "      <th>Dresses</th>\n",
              "      <th>Outerwear</th>\n",
              "      <th>Tops</th>\n",
              "    </tr>\n",
              "    <tr>\n",
              "      <th>user_id</th>\n",
              "      <th></th>\n",
              "      <th></th>\n",
              "      <th></th>\n",
              "      <th></th>\n",
              "    </tr>\n",
              "  </thead>\n",
              "  <tbody>\n",
              "    <tr>\n",
              "      <th>\"Ferrari\")</th>\n",
              "      <td>0.0</td>\n",
              "      <td>3.0</td>\n",
              "      <td>0.0</td>\n",
              "      <td>0.0</td>\n",
              "    </tr>\n",
              "    <tr>\n",
              "      <th>'Chelle</th>\n",
              "      <td>0.0</td>\n",
              "      <td>0.0</td>\n",
              "      <td>0.0</td>\n",
              "      <td>3.0</td>\n",
              "    </tr>\n",
              "    <tr>\n",
              "      <th>-L</th>\n",
              "      <td>0.0</td>\n",
              "      <td>0.0</td>\n",
              "      <td>0.0</td>\n",
              "      <td>5.0</td>\n",
              "    </tr>\n",
              "    <tr>\n",
              "      <th>00erin</th>\n",
              "      <td>0.0</td>\n",
              "      <td>2.0</td>\n",
              "      <td>0.0</td>\n",
              "      <td>0.0</td>\n",
              "    </tr>\n",
              "    <tr>\n",
              "      <th>00izzyb</th>\n",
              "      <td>0.0</td>\n",
              "      <td>3.0</td>\n",
              "      <td>0.0</td>\n",
              "      <td>0.0</td>\n",
              "    </tr>\n",
              "    <tr>\n",
              "      <th>...</th>\n",
              "      <td>...</td>\n",
              "      <td>...</td>\n",
              "      <td>...</td>\n",
              "      <td>...</td>\n",
              "    </tr>\n",
              "    <tr>\n",
              "      <th>zombie66_79</th>\n",
              "      <td>0.0</td>\n",
              "      <td>0.0</td>\n",
              "      <td>0.0</td>\n",
              "      <td>4.0</td>\n",
              "    </tr>\n",
              "    <tr>\n",
              "      <th>zombiscuit</th>\n",
              "      <td>0.0</td>\n",
              "      <td>5.0</td>\n",
              "      <td>0.0</td>\n",
              "      <td>0.0</td>\n",
              "    </tr>\n",
              "    <tr>\n",
              "      <th>zoshia</th>\n",
              "      <td>3.0</td>\n",
              "      <td>0.0</td>\n",
              "      <td>0.0</td>\n",
              "      <td>0.0</td>\n",
              "    </tr>\n",
              "    <tr>\n",
              "      <th>zpsarouthakis</th>\n",
              "      <td>0.0</td>\n",
              "      <td>0.0</td>\n",
              "      <td>5.0</td>\n",
              "      <td>0.0</td>\n",
              "    </tr>\n",
              "    <tr>\n",
              "      <th>zuzu_zoom</th>\n",
              "      <td>0.0</td>\n",
              "      <td>4.0</td>\n",
              "      <td>0.0</td>\n",
              "      <td>0.0</td>\n",
              "    </tr>\n",
              "  </tbody>\n",
              "</table>\n",
              "<p>10860 rows × 4 columns</p>\n",
              "</div>"
            ],
            "text/plain": [
              "category       Bottoms  Dresses  Outerwear  Tops\n",
              "user_id                                         \n",
              "\"Ferrari\")         0.0      3.0        0.0   0.0\n",
              "'Chelle            0.0      0.0        0.0   3.0\n",
              "-L                 0.0      0.0        0.0   5.0\n",
              "00erin             0.0      2.0        0.0   0.0\n",
              "00izzyb            0.0      3.0        0.0   0.0\n",
              "...                ...      ...        ...   ...\n",
              "zombie66_79        0.0      0.0        0.0   4.0\n",
              "zombiscuit         0.0      5.0        0.0   0.0\n",
              "zoshia             3.0      0.0        0.0   0.0\n",
              "zpsarouthakis      0.0      0.0        5.0   0.0\n",
              "zuzu_zoom          0.0      4.0        0.0   0.0\n",
              "\n",
              "[10860 rows x 4 columns]"
            ]
          },
          "metadata": {
            "tags": []
          },
          "execution_count": 9
        }
      ]
    },
    {
      "cell_type": "code",
      "metadata": {
        "id": "Ovscatp7YvP-"
      },
      "source": [
        "itemsimilarity=rating.corr(method='pearson')"
      ],
      "execution_count": 10,
      "outputs": []
    },
    {
      "cell_type": "code",
      "metadata": {
        "colab": {
          "base_uri": "https://localhost:8080/",
          "height": 203
        },
        "id": "W-UwG-LzbdNA",
        "outputId": "3bafc20d-1aa2-426e-aa08-cad685ad6d91"
      },
      "source": [
        "itemsimilarity"
      ],
      "execution_count": 11,
      "outputs": [
        {
          "output_type": "execute_result",
          "data": {
            "text/html": [
              "<div>\n",
              "<style scoped>\n",
              "    .dataframe tbody tr th:only-of-type {\n",
              "        vertical-align: middle;\n",
              "    }\n",
              "\n",
              "    .dataframe tbody tr th {\n",
              "        vertical-align: top;\n",
              "    }\n",
              "\n",
              "    .dataframe thead th {\n",
              "        text-align: right;\n",
              "    }\n",
              "</style>\n",
              "<table border=\"1\" class=\"dataframe\">\n",
              "  <thead>\n",
              "    <tr style=\"text-align: right;\">\n",
              "      <th>category</th>\n",
              "      <th>Bottoms</th>\n",
              "      <th>Dresses</th>\n",
              "      <th>Outerwear</th>\n",
              "      <th>Tops</th>\n",
              "    </tr>\n",
              "    <tr>\n",
              "      <th>category</th>\n",
              "      <th></th>\n",
              "      <th></th>\n",
              "      <th></th>\n",
              "      <th></th>\n",
              "    </tr>\n",
              "  </thead>\n",
              "  <tbody>\n",
              "    <tr>\n",
              "      <th>Bottoms</th>\n",
              "      <td>1.000000</td>\n",
              "      <td>-0.273778</td>\n",
              "      <td>-0.084251</td>\n",
              "      <td>-0.135870</td>\n",
              "    </tr>\n",
              "    <tr>\n",
              "      <th>Dresses</th>\n",
              "      <td>-0.273778</td>\n",
              "      <td>1.000000</td>\n",
              "      <td>-0.233168</td>\n",
              "      <td>-0.312176</td>\n",
              "    </tr>\n",
              "    <tr>\n",
              "      <th>Outerwear</th>\n",
              "      <td>-0.084251</td>\n",
              "      <td>-0.233168</td>\n",
              "      <td>1.000000</td>\n",
              "      <td>-0.108068</td>\n",
              "    </tr>\n",
              "    <tr>\n",
              "      <th>Tops</th>\n",
              "      <td>-0.135870</td>\n",
              "      <td>-0.312176</td>\n",
              "      <td>-0.108068</td>\n",
              "      <td>1.000000</td>\n",
              "    </tr>\n",
              "  </tbody>\n",
              "</table>\n",
              "</div>"
            ],
            "text/plain": [
              "category    Bottoms   Dresses  Outerwear      Tops\n",
              "category                                          \n",
              "Bottoms    1.000000 -0.273778  -0.084251 -0.135870\n",
              "Dresses   -0.273778  1.000000  -0.233168 -0.312176\n",
              "Outerwear -0.084251 -0.233168   1.000000 -0.108068\n",
              "Tops      -0.135870 -0.312176  -0.108068  1.000000"
            ]
          },
          "metadata": {
            "tags": []
          },
          "execution_count": 11
        }
      ]
    },
    {
      "cell_type": "code",
      "metadata": {
        "id": "f-S0jGKgbjFX"
      },
      "source": [
        "df['modcat']=df['model_attr']+df['category']"
      ],
      "execution_count": 12,
      "outputs": []
    },
    {
      "cell_type": "code",
      "metadata": {
        "colab": {
          "base_uri": "https://localhost:8080/",
          "height": 203
        },
        "id": "Bk2hjuOYcDKP",
        "outputId": "e97c158e-fc64-44e3-b39b-517d57d09ecd"
      },
      "source": [
        "df.head()"
      ],
      "execution_count": 13,
      "outputs": [
        {
          "output_type": "execute_result",
          "data": {
            "text/html": [
              "<div>\n",
              "<style scoped>\n",
              "    .dataframe tbody tr th:only-of-type {\n",
              "        vertical-align: middle;\n",
              "    }\n",
              "\n",
              "    .dataframe tbody tr th {\n",
              "        vertical-align: top;\n",
              "    }\n",
              "\n",
              "    .dataframe thead th {\n",
              "        text-align: right;\n",
              "    }\n",
              "</style>\n",
              "<table border=\"1\" class=\"dataframe\">\n",
              "  <thead>\n",
              "    <tr style=\"text-align: right;\">\n",
              "      <th></th>\n",
              "      <th>item_id</th>\n",
              "      <th>user_id</th>\n",
              "      <th>rating</th>\n",
              "      <th>timestamp</th>\n",
              "      <th>size</th>\n",
              "      <th>fit</th>\n",
              "      <th>user_attr</th>\n",
              "      <th>model_attr</th>\n",
              "      <th>category</th>\n",
              "      <th>brand</th>\n",
              "      <th>year</th>\n",
              "      <th>split</th>\n",
              "      <th>modcat</th>\n",
              "    </tr>\n",
              "  </thead>\n",
              "  <tbody>\n",
              "    <tr>\n",
              "      <th>328</th>\n",
              "      <td>21296</td>\n",
              "      <td>Nikki</td>\n",
              "      <td>5</td>\n",
              "      <td>2011-02-16 08:00:00+00:00</td>\n",
              "      <td>3.0</td>\n",
              "      <td>Just right</td>\n",
              "      <td>Small</td>\n",
              "      <td>Small</td>\n",
              "      <td>Bottoms</td>\n",
              "      <td>ModCloth</td>\n",
              "      <td>2013</td>\n",
              "      <td>0</td>\n",
              "      <td>SmallBottoms</td>\n",
              "    </tr>\n",
              "    <tr>\n",
              "      <th>329</th>\n",
              "      <td>21296</td>\n",
              "      <td>ellen</td>\n",
              "      <td>5</td>\n",
              "      <td>2011-02-16 08:00:00+00:00</td>\n",
              "      <td>1.0</td>\n",
              "      <td>Just right</td>\n",
              "      <td>Large</td>\n",
              "      <td>Small</td>\n",
              "      <td>Bottoms</td>\n",
              "      <td>ModCloth</td>\n",
              "      <td>2013</td>\n",
              "      <td>0</td>\n",
              "      <td>SmallBottoms</td>\n",
              "    </tr>\n",
              "    <tr>\n",
              "      <th>340</th>\n",
              "      <td>21296</td>\n",
              "      <td>Sarita</td>\n",
              "      <td>5</td>\n",
              "      <td>2011-02-22 08:00:00+00:00</td>\n",
              "      <td>2.0</td>\n",
              "      <td>Just right</td>\n",
              "      <td>Small</td>\n",
              "      <td>Small</td>\n",
              "      <td>Bottoms</td>\n",
              "      <td>ModCloth</td>\n",
              "      <td>2013</td>\n",
              "      <td>0</td>\n",
              "      <td>SmallBottoms</td>\n",
              "    </tr>\n",
              "    <tr>\n",
              "      <th>351</th>\n",
              "      <td>21296</td>\n",
              "      <td>kacikorn</td>\n",
              "      <td>4</td>\n",
              "      <td>2011-03-01 08:00:00+00:00</td>\n",
              "      <td>1.0</td>\n",
              "      <td>Just right</td>\n",
              "      <td>Small</td>\n",
              "      <td>Small</td>\n",
              "      <td>Bottoms</td>\n",
              "      <td>ModCloth</td>\n",
              "      <td>2013</td>\n",
              "      <td>0</td>\n",
              "      <td>SmallBottoms</td>\n",
              "    </tr>\n",
              "    <tr>\n",
              "      <th>361</th>\n",
              "      <td>21296</td>\n",
              "      <td>lesleydawn88</td>\n",
              "      <td>4</td>\n",
              "      <td>2011-03-06 08:00:00+00:00</td>\n",
              "      <td>1.0</td>\n",
              "      <td>Just right</td>\n",
              "      <td>Small</td>\n",
              "      <td>Small</td>\n",
              "      <td>Bottoms</td>\n",
              "      <td>ModCloth</td>\n",
              "      <td>2013</td>\n",
              "      <td>0</td>\n",
              "      <td>SmallBottoms</td>\n",
              "    </tr>\n",
              "  </tbody>\n",
              "</table>\n",
              "</div>"
            ],
            "text/plain": [
              "     item_id       user_id  rating  ...  year  split        modcat\n",
              "328    21296         Nikki       5  ...  2013      0  SmallBottoms\n",
              "329    21296         ellen       5  ...  2013      0  SmallBottoms\n",
              "340    21296        Sarita       5  ...  2013      0  SmallBottoms\n",
              "351    21296      kacikorn       4  ...  2013      0  SmallBottoms\n",
              "361    21296  lesleydawn88       4  ...  2013      0  SmallBottoms\n",
              "\n",
              "[5 rows x 13 columns]"
            ]
          },
          "metadata": {
            "tags": []
          },
          "execution_count": 13
        }
      ]
    },
    {
      "cell_type": "code",
      "metadata": {
        "id": "jI_7BIaaccv-"
      },
      "source": [
        "rating=df.pivot_table(index=['user_id'],columns=['modcat'],values='rating')"
      ],
      "execution_count": 14,
      "outputs": []
    },
    {
      "cell_type": "code",
      "metadata": {
        "id": "CSaMMjB3eMJh"
      },
      "source": [
        "rating=rating.dropna(thresh=10,axis=1).fillna(0)"
      ],
      "execution_count": 15,
      "outputs": []
    },
    {
      "cell_type": "code",
      "metadata": {
        "colab": {
          "base_uri": "https://localhost:8080/",
          "height": 467
        },
        "id": "DYqxrG34ePol",
        "outputId": "82be9405-e760-4ed2-ad04-6ad806cd9485"
      },
      "source": [
        "rating"
      ],
      "execution_count": 16,
      "outputs": [
        {
          "output_type": "execute_result",
          "data": {
            "text/html": [
              "<div>\n",
              "<style scoped>\n",
              "    .dataframe tbody tr th:only-of-type {\n",
              "        vertical-align: middle;\n",
              "    }\n",
              "\n",
              "    .dataframe tbody tr th {\n",
              "        vertical-align: top;\n",
              "    }\n",
              "\n",
              "    .dataframe thead th {\n",
              "        text-align: right;\n",
              "    }\n",
              "</style>\n",
              "<table border=\"1\" class=\"dataframe\">\n",
              "  <thead>\n",
              "    <tr style=\"text-align: right;\">\n",
              "      <th>modcat</th>\n",
              "      <th>Small&amp;LargeBottoms</th>\n",
              "      <th>Small&amp;LargeDresses</th>\n",
              "      <th>Small&amp;LargeOuterwear</th>\n",
              "      <th>Small&amp;LargeTops</th>\n",
              "      <th>SmallBottoms</th>\n",
              "      <th>SmallDresses</th>\n",
              "      <th>SmallOuterwear</th>\n",
              "      <th>SmallTops</th>\n",
              "    </tr>\n",
              "    <tr>\n",
              "      <th>user_id</th>\n",
              "      <th></th>\n",
              "      <th></th>\n",
              "      <th></th>\n",
              "      <th></th>\n",
              "      <th></th>\n",
              "      <th></th>\n",
              "      <th></th>\n",
              "      <th></th>\n",
              "    </tr>\n",
              "  </thead>\n",
              "  <tbody>\n",
              "    <tr>\n",
              "      <th>\"Ferrari\")</th>\n",
              "      <td>0.0</td>\n",
              "      <td>3.0</td>\n",
              "      <td>0.0</td>\n",
              "      <td>0.0</td>\n",
              "      <td>0.0</td>\n",
              "      <td>0.0</td>\n",
              "      <td>0.0</td>\n",
              "      <td>0.0</td>\n",
              "    </tr>\n",
              "    <tr>\n",
              "      <th>'Chelle</th>\n",
              "      <td>0.0</td>\n",
              "      <td>0.0</td>\n",
              "      <td>0.0</td>\n",
              "      <td>0.0</td>\n",
              "      <td>0.0</td>\n",
              "      <td>0.0</td>\n",
              "      <td>0.0</td>\n",
              "      <td>3.0</td>\n",
              "    </tr>\n",
              "    <tr>\n",
              "      <th>-L</th>\n",
              "      <td>0.0</td>\n",
              "      <td>0.0</td>\n",
              "      <td>0.0</td>\n",
              "      <td>0.0</td>\n",
              "      <td>0.0</td>\n",
              "      <td>0.0</td>\n",
              "      <td>0.0</td>\n",
              "      <td>5.0</td>\n",
              "    </tr>\n",
              "    <tr>\n",
              "      <th>00erin</th>\n",
              "      <td>0.0</td>\n",
              "      <td>0.0</td>\n",
              "      <td>0.0</td>\n",
              "      <td>0.0</td>\n",
              "      <td>0.0</td>\n",
              "      <td>2.0</td>\n",
              "      <td>0.0</td>\n",
              "      <td>0.0</td>\n",
              "    </tr>\n",
              "    <tr>\n",
              "      <th>00izzyb</th>\n",
              "      <td>0.0</td>\n",
              "      <td>0.0</td>\n",
              "      <td>0.0</td>\n",
              "      <td>0.0</td>\n",
              "      <td>0.0</td>\n",
              "      <td>3.0</td>\n",
              "      <td>0.0</td>\n",
              "      <td>0.0</td>\n",
              "    </tr>\n",
              "    <tr>\n",
              "      <th>...</th>\n",
              "      <td>...</td>\n",
              "      <td>...</td>\n",
              "      <td>...</td>\n",
              "      <td>...</td>\n",
              "      <td>...</td>\n",
              "      <td>...</td>\n",
              "      <td>...</td>\n",
              "      <td>...</td>\n",
              "    </tr>\n",
              "    <tr>\n",
              "      <th>zombie66_79</th>\n",
              "      <td>0.0</td>\n",
              "      <td>0.0</td>\n",
              "      <td>0.0</td>\n",
              "      <td>4.0</td>\n",
              "      <td>0.0</td>\n",
              "      <td>0.0</td>\n",
              "      <td>0.0</td>\n",
              "      <td>0.0</td>\n",
              "    </tr>\n",
              "    <tr>\n",
              "      <th>zombiscuit</th>\n",
              "      <td>0.0</td>\n",
              "      <td>5.0</td>\n",
              "      <td>0.0</td>\n",
              "      <td>0.0</td>\n",
              "      <td>0.0</td>\n",
              "      <td>0.0</td>\n",
              "      <td>0.0</td>\n",
              "      <td>0.0</td>\n",
              "    </tr>\n",
              "    <tr>\n",
              "      <th>zoshia</th>\n",
              "      <td>0.0</td>\n",
              "      <td>0.0</td>\n",
              "      <td>0.0</td>\n",
              "      <td>0.0</td>\n",
              "      <td>3.0</td>\n",
              "      <td>0.0</td>\n",
              "      <td>0.0</td>\n",
              "      <td>0.0</td>\n",
              "    </tr>\n",
              "    <tr>\n",
              "      <th>zpsarouthakis</th>\n",
              "      <td>0.0</td>\n",
              "      <td>0.0</td>\n",
              "      <td>5.0</td>\n",
              "      <td>0.0</td>\n",
              "      <td>0.0</td>\n",
              "      <td>0.0</td>\n",
              "      <td>0.0</td>\n",
              "      <td>0.0</td>\n",
              "    </tr>\n",
              "    <tr>\n",
              "      <th>zuzu_zoom</th>\n",
              "      <td>0.0</td>\n",
              "      <td>4.0</td>\n",
              "      <td>0.0</td>\n",
              "      <td>0.0</td>\n",
              "      <td>0.0</td>\n",
              "      <td>0.0</td>\n",
              "      <td>0.0</td>\n",
              "      <td>0.0</td>\n",
              "    </tr>\n",
              "  </tbody>\n",
              "</table>\n",
              "<p>10860 rows × 8 columns</p>\n",
              "</div>"
            ],
            "text/plain": [
              "modcat         Small&LargeBottoms  ...  SmallTops\n",
              "user_id                            ...           \n",
              "\"Ferrari\")                    0.0  ...        0.0\n",
              "'Chelle                       0.0  ...        3.0\n",
              "-L                            0.0  ...        5.0\n",
              "00erin                        0.0  ...        0.0\n",
              "00izzyb                       0.0  ...        0.0\n",
              "...                           ...  ...        ...\n",
              "zombie66_79                   0.0  ...        0.0\n",
              "zombiscuit                    0.0  ...        0.0\n",
              "zoshia                        0.0  ...        0.0\n",
              "zpsarouthakis                 0.0  ...        0.0\n",
              "zuzu_zoom                     0.0  ...        0.0\n",
              "\n",
              "[10860 rows x 8 columns]"
            ]
          },
          "metadata": {
            "tags": []
          },
          "execution_count": 16
        }
      ]
    },
    {
      "cell_type": "code",
      "metadata": {
        "id": "_kdk6prKeREa"
      },
      "source": [
        "itemsimilarity=rating.corr(method='pearson')"
      ],
      "execution_count": 17,
      "outputs": []
    },
    {
      "cell_type": "code",
      "metadata": {
        "colab": {
          "base_uri": "https://localhost:8080/",
          "height": 346
        },
        "id": "XxygGWpRekIL",
        "outputId": "102c6c54-02b2-4c0d-a20c-5f0904033802"
      },
      "source": [
        "itemsimilarity"
      ],
      "execution_count": 18,
      "outputs": [
        {
          "output_type": "execute_result",
          "data": {
            "text/html": [
              "<div>\n",
              "<style scoped>\n",
              "    .dataframe tbody tr th:only-of-type {\n",
              "        vertical-align: middle;\n",
              "    }\n",
              "\n",
              "    .dataframe tbody tr th {\n",
              "        vertical-align: top;\n",
              "    }\n",
              "\n",
              "    .dataframe thead th {\n",
              "        text-align: right;\n",
              "    }\n",
              "</style>\n",
              "<table border=\"1\" class=\"dataframe\">\n",
              "  <thead>\n",
              "    <tr style=\"text-align: right;\">\n",
              "      <th>modcat</th>\n",
              "      <th>Small&amp;LargeBottoms</th>\n",
              "      <th>Small&amp;LargeDresses</th>\n",
              "      <th>Small&amp;LargeOuterwear</th>\n",
              "      <th>Small&amp;LargeTops</th>\n",
              "      <th>SmallBottoms</th>\n",
              "      <th>SmallDresses</th>\n",
              "      <th>SmallOuterwear</th>\n",
              "      <th>SmallTops</th>\n",
              "    </tr>\n",
              "    <tr>\n",
              "      <th>modcat</th>\n",
              "      <th></th>\n",
              "      <th></th>\n",
              "      <th></th>\n",
              "      <th></th>\n",
              "      <th></th>\n",
              "      <th></th>\n",
              "      <th></th>\n",
              "      <th></th>\n",
              "    </tr>\n",
              "  </thead>\n",
              "  <tbody>\n",
              "    <tr>\n",
              "      <th>Small&amp;LargeBottoms</th>\n",
              "      <td>1.000000</td>\n",
              "      <td>-0.067457</td>\n",
              "      <td>-0.013747</td>\n",
              "      <td>-0.007503</td>\n",
              "      <td>0.034991</td>\n",
              "      <td>-0.031425</td>\n",
              "      <td>0.027463</td>\n",
              "      <td>0.023922</td>\n",
              "    </tr>\n",
              "    <tr>\n",
              "      <th>Small&amp;LargeDresses</th>\n",
              "      <td>-0.067457</td>\n",
              "      <td>1.000000</td>\n",
              "      <td>-0.117977</td>\n",
              "      <td>-0.107886</td>\n",
              "      <td>-0.109116</td>\n",
              "      <td>-0.118333</td>\n",
              "      <td>-0.026750</td>\n",
              "      <td>-0.097092</td>\n",
              "    </tr>\n",
              "    <tr>\n",
              "      <th>Small&amp;LargeOuterwear</th>\n",
              "      <td>-0.013747</td>\n",
              "      <td>-0.117977</td>\n",
              "      <td>1.000000</td>\n",
              "      <td>-0.036899</td>\n",
              "      <td>-0.035493</td>\n",
              "      <td>-0.073579</td>\n",
              "      <td>0.010191</td>\n",
              "      <td>-0.020460</td>\n",
              "    </tr>\n",
              "    <tr>\n",
              "      <th>Small&amp;LargeTops</th>\n",
              "      <td>-0.007503</td>\n",
              "      <td>-0.107886</td>\n",
              "      <td>-0.036899</td>\n",
              "      <td>1.000000</td>\n",
              "      <td>-0.038627</td>\n",
              "      <td>-0.059097</td>\n",
              "      <td>0.002904</td>\n",
              "      <td>-0.019434</td>\n",
              "    </tr>\n",
              "    <tr>\n",
              "      <th>SmallBottoms</th>\n",
              "      <td>0.034991</td>\n",
              "      <td>-0.109116</td>\n",
              "      <td>-0.035493</td>\n",
              "      <td>-0.038627</td>\n",
              "      <td>1.000000</td>\n",
              "      <td>-0.054035</td>\n",
              "      <td>0.024875</td>\n",
              "      <td>-0.009718</td>\n",
              "    </tr>\n",
              "    <tr>\n",
              "      <th>SmallDresses</th>\n",
              "      <td>-0.031425</td>\n",
              "      <td>-0.118333</td>\n",
              "      <td>-0.073579</td>\n",
              "      <td>-0.059097</td>\n",
              "      <td>-0.054035</td>\n",
              "      <td>1.000000</td>\n",
              "      <td>-0.014238</td>\n",
              "      <td>-0.048674</td>\n",
              "    </tr>\n",
              "    <tr>\n",
              "      <th>SmallOuterwear</th>\n",
              "      <td>0.027463</td>\n",
              "      <td>-0.026750</td>\n",
              "      <td>0.010191</td>\n",
              "      <td>0.002904</td>\n",
              "      <td>0.024875</td>\n",
              "      <td>-0.014238</td>\n",
              "      <td>1.000000</td>\n",
              "      <td>0.026843</td>\n",
              "    </tr>\n",
              "    <tr>\n",
              "      <th>SmallTops</th>\n",
              "      <td>0.023922</td>\n",
              "      <td>-0.097092</td>\n",
              "      <td>-0.020460</td>\n",
              "      <td>-0.019434</td>\n",
              "      <td>-0.009718</td>\n",
              "      <td>-0.048674</td>\n",
              "      <td>0.026843</td>\n",
              "      <td>1.000000</td>\n",
              "    </tr>\n",
              "  </tbody>\n",
              "</table>\n",
              "</div>"
            ],
            "text/plain": [
              "modcat                Small&LargeBottoms  ...  SmallTops\n",
              "modcat                                    ...           \n",
              "Small&LargeBottoms              1.000000  ...   0.023922\n",
              "Small&LargeDresses             -0.067457  ...  -0.097092\n",
              "Small&LargeOuterwear           -0.013747  ...  -0.020460\n",
              "Small&LargeTops                -0.007503  ...  -0.019434\n",
              "SmallBottoms                    0.034991  ...  -0.009718\n",
              "SmallDresses                   -0.031425  ...  -0.048674\n",
              "SmallOuterwear                  0.027463  ...   0.026843\n",
              "SmallTops                       0.023922  ...   1.000000\n",
              "\n",
              "[8 rows x 8 columns]"
            ]
          },
          "metadata": {
            "tags": []
          },
          "execution_count": 18
        }
      ]
    },
    {
      "cell_type": "code",
      "metadata": {
        "id": "h_Gl_GxBep8R"
      },
      "source": [
        "def getsimilarproducts(mm,rating):\n",
        "  sm=itemsimilarity[mm]*(rating-2.5)\n",
        "  sm=sm.sort_values(ascending=False)\n",
        "  return sm"
      ],
      "execution_count": 19,
      "outputs": []
    },
    {
      "cell_type": "code",
      "metadata": {
        "id": "1kolQqpmfr40"
      },
      "source": [
        "ac=[('Small&LargeDresses',5)]"
      ],
      "execution_count": 20,
      "outputs": []
    },
    {
      "cell_type": "code",
      "metadata": {
        "id": "YzxNIbIdgX7V"
      },
      "source": [
        "smt=pd.DataFrame()\n",
        "for modcat,rating in ac:\n",
        "  smt=smt.append(getsimilarproducts(modcat,rating),ignore_index=True)"
      ],
      "execution_count": 21,
      "outputs": []
    },
    {
      "cell_type": "code",
      "metadata": {
        "colab": {
          "base_uri": "https://localhost:8080/"
        },
        "id": "-ptYnoIigyMp",
        "outputId": "282fc701-6bd4-46a1-fa14-65eae8d18f23"
      },
      "source": [
        "print(\"People who bought{} also purchased\".format(ac[0][0]))\n",
        "smt.sum().sort_values(ascending=False)"
      ],
      "execution_count": 22,
      "outputs": [
        {
          "output_type": "stream",
          "text": [
            "People who boughtSmall&LargeDresses also purchased\n"
          ],
          "name": "stdout"
        },
        {
          "output_type": "execute_result",
          "data": {
            "text/plain": [
              "Small&LargeDresses      2.500000\n",
              "SmallOuterwear         -0.066874\n",
              "Small&LargeBottoms     -0.168642\n",
              "SmallTops              -0.242730\n",
              "Small&LargeTops        -0.269715\n",
              "SmallBottoms           -0.272790\n",
              "Small&LargeOuterwear   -0.294942\n",
              "SmallDresses           -0.295832\n",
              "dtype: float64"
            ]
          },
          "metadata": {
            "tags": []
          },
          "execution_count": 22
        }
      ]
    },
    {
      "cell_type": "code",
      "metadata": {
        "id": "HzBna8YAhxOq"
      },
      "source": [
        "\n"
      ],
      "execution_count": 22,
      "outputs": []
    }
  ]
}